{
 "cells": [
  {
   "cell_type": "code",
   "execution_count": 1,
   "id": "3e294eaf-8f7f-4c12-a9d4-b1c7336cd50a",
   "metadata": {
    "tags": []
   },
   "outputs": [
    {
     "name": "stdout",
     "output_type": "stream",
     "text": [
      "Con\n",
      "quiste as montanhas, abrace a natureza. \n",
      "\n",
      "\n"
     ]
    }
   ],
   "source": [
    "from vertexai.preview.generative_models import GenerativeModel\n",
    "\n",
    "model = GenerativeModel(\"gemini-1.5-pro\")\n",
    "\n",
    "prompt = \"\"\"\n",
    "A Cymbal Direct está fazendo uma parceria com um varejista de equipamentos para atividades ao ar livre. A empresa está lançando uma nova linha de produtos criada para incentivar os jovens a explorar a natureza. Ajude a criar slogans chamativos para essa linha de produtos.\n",
    "\n",
    "input: Escreva um slogan para uma mochila durável desenvolvida para trilhas que faz as pessoas se sentirem preparadas para explorar a natureza. Considere estilos como o minimalista.\n",
    "output: Criados para a jornada: seus itens essenciais para a aventura.\n",
    "\n",
    "input: Escreva um slogan para uma mochila leve e resistente que pode ser utilizada na caminhada em meio a natureza.\n",
    "output: Foco na aventura com a mochila ideal.\n",
    "\n",
    "\n",
    "input: Escreva um slogan para itens necessários para uma aventura em meio a natureza em montanhas.\n",
    "       Inclua a palavra natureza\n",
    "output:\n",
    "\"\"\"\n",
    "\n",
    "responses = model.generate_content(\n",
    "    prompt,\n",
    "    generation_config={\n",
    "        \"temperature\": 1,\n",
    "        \"max_output_tokens\": 2048,\n",
    "        \"top_p\": 1.0,\n",
    "        \"top_k\": 40,\n",
    "    },\n",
    "    stream=True\n",
    "    )\n",
    "\n",
    "for response in responses:\n",
    "    print(response.text)"
   ]
  },
  {
   "cell_type": "code",
   "execution_count": null,
   "id": "19c75965-aebb-4f94-bb29-e0e1331fe172",
   "metadata": {},
   "outputs": [],
   "source": []
  }
 ],
 "metadata": {
  "environment": {
   "kernel": "python3",
   "name": "tf2-cpu.2-17.m125",
   "type": "gcloud",
   "uri": "us-docker.pkg.dev/deeplearning-platform-release/gcr.io/tf2-cpu.2-17:m125"
  },
  "kernelspec": {
   "display_name": "Python 3 (Local)",
   "language": "python",
   "name": "python3"
  },
  "language_info": {
   "codemirror_mode": {
    "name": "ipython",
    "version": 3
   },
   "file_extension": ".py",
   "mimetype": "text/x-python",
   "name": "python",
   "nbconvert_exporter": "python",
   "pygments_lexer": "ipython3",
   "version": "3.10.15"
  }
 },
 "nbformat": 4,
 "nbformat_minor": 5
}

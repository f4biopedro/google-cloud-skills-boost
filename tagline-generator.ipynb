{
 "cells": [
  {
   "cell_type": "code",
   "execution_count": 2,
   "id": "5008d42c-5d36-4433-8a4b-2400afbdf7fc",
   "metadata": {
    "tags": []
   },
   "outputs": [
    {
     "name": "stdout",
     "output_type": "stream",
     "text": [
      "Nature\n",
      "'s playground. Affordably equipped.\n",
      "\n",
      "\n"
     ]
    }
   ],
   "source": [
    "from vertexai.preview.generative_models import GenerativeModel\n",
    "\n",
    "model = GenerativeModel(\"gemini-1.5-pro-002\")\n",
    "\n",
    "prompt = \"\"\"\n",
    "Cymbal Direct is partnering with an outdoor gear retailer. They\\'re launching a new line of products designed to encourage young people to explore the outdoors. Help them create catchy taglines for this product line.\n",
    "\n",
    "input: Write a tagline for a durable backpack designed for hikers that makes them feel prepared. Consider styles like minimalist.\n",
    "output: Built for the Journey: Your Adventure Essentials.\n",
    "\n",
    "input: Write a tagline for a lightweight backpack for adventure in the beatiful scenary.\n",
    "output: Focus on adventure with the needed backpack.\n",
    "\n",
    "input: Write a tagline for a backpak resistent and cheap for nature adventure. Include the word nature\n",
    "output:\n",
    "\"\"\"\n",
    "\n",
    "responses = model.generate_content(\n",
    "    prompt,\n",
    "    generation_config={\n",
    "        \"temperature\": 1,\n",
    "        \"max_output_tokens\": 2048,\n",
    "        \"top_p\": 1.0,\n",
    "        \"top_k\": 40,\n",
    "    },\n",
    "    stream=True\n",
    "    )\n",
    "\n",
    "for response in responses:\n",
    "    print(response.text)"
   ]
  },
  {
   "cell_type": "code",
   "execution_count": null,
   "id": "169d79ee-88ce-4474-9924-0142f61daa34",
   "metadata": {},
   "outputs": [],
   "source": []
  }
 ],
 "metadata": {
  "environment": {
   "kernel": "python3",
   "name": "tf2-cpu.2-17.m125",
   "type": "gcloud",
   "uri": "us-docker.pkg.dev/deeplearning-platform-release/gcr.io/tf2-cpu.2-17:m125"
  },
  "kernelspec": {
   "display_name": "Python 3 (Local)",
   "language": "python",
   "name": "python3"
  },
  "language_info": {
   "codemirror_mode": {
    "name": "ipython",
    "version": 3
   },
   "file_extension": ".py",
   "mimetype": "text/x-python",
   "name": "python",
   "nbconvert_exporter": "python",
   "pygments_lexer": "ipython3",
   "version": "3.10.15"
  }
 },
 "nbformat": 4,
 "nbformat_minor": 5
}

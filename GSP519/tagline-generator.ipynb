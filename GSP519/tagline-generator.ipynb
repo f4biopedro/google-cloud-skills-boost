{
 "cells": [
  {
   "cell_type": "code",
   "execution_count": null,
   "id": "99f32319-2e1b-435b-bb17-35bf4c037c8e",
   "metadata": {},
   "outputs": [],
   "source": [
    "from vertexai.preview.generative_models import GenerativeModel\n",
    "\n",
    "model = GenerativeModel(\"gemini-1.5-pro\")\n",
    "\n",
    "prompt = \"\"\"\n",
    "A Cymbal Direct está fazendo uma parceria com um varejista de equipamentos para atividades ao ar livre. A empresa está lançando uma nova linha de produtos criada para incentivar os jovens a explorar a natureza. Ajude a criar slogans chamativos para essa linha de produtos.\n",
    "\n",
    "input: <your example input #1>\n",
    "output: <your example output #1>\n",
    "\n",
    "input: <your example input #2>\n",
    "output: <your example output #2>\n",
    "\n",
    "input: <your test input>\n",
    "output:\n",
    "\"\"\"\n",
    "\n",
    "responses = model.generate_content(\n",
    "    prompt,\n",
    "    generation_config={\n",
    "        \"temperature\": 1,\n",
    "        \"max_output_tokens\": 2048,\n",
    "        \"top_p\": 1.0,\n",
    "        \"top_k\": 40,\n",
    "    },\n",
    "    stream=True\n",
    "    )\n",
    "\n",
    "for response in responses:\n",
    "    print(response.text)"
   ]
  }
 ],
 "metadata": {
  "environment": {
   "kernel": "conda-base-py",
   "name": "workbench-notebooks.m126",
   "type": "gcloud",
   "uri": "us-docker.pkg.dev/deeplearning-platform-release/gcr.io/workbench-notebooks:m126"
  },
  "kernelspec": {
   "display_name": "Python 3 (ipykernel) (Local)",
   "language": "python",
   "name": "conda-base-py"
  },
  "language_info": {
   "codemirror_mode": {
    "name": "ipython",
    "version": 3
   },
   "file_extension": ".py",
   "mimetype": "text/x-python",
   "name": "python",
   "nbconvert_exporter": "python",
   "pygments_lexer": "ipython3",
   "version": "3.10.15"
  }
 },
 "nbformat": 4,
 "nbformat_minor": 5
}

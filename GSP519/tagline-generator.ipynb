{
 "cells": [
  {
   "cell_type": "code",
   "execution_count": 6,
   "id": "99f32319-2e1b-435b-bb17-35bf4c037c8e",
   "metadata": {
    "tags": []
   },
   "outputs": [
    {
     "name": "stdout",
     "output_type": "stream",
     "text": [
      "Con\n",
      "ecte-se com a **natureza**, equipado para a aventura. \n",
      "\n",
      "\n"
     ]
    }
   ],
   "source": [
    "from vertexai.preview.generative_models import GenerativeModel\n",
    "\n",
    "model = GenerativeModel(\"gemini-1.5-pro\")\n",
    "\n",
    "prompt = \"\"\"\n",
    "A Cymbal Direct está fazendo uma parceria com um varejista de equipamentos para atividades ao ar livre. A empresa está lançando uma nova linha de produtos criada para incentivar os jovens a explorar a natureza. Ajude a criar slogans chamativos para essa linha de produtos.\n",
    "\n",
    "\n",
    "input: Escreva um slogan para uma mochila durável desenvolvida para trilhas que faz as pessoas se sentirem preparadas para explorar a natureza. Considere estilos como o minimalista.\n",
    "output: Criados para a jornada: seus itens essenciais para a aventura.\n",
    "\n",
    "input: Escreva um slogan para uma mochila leve e resistente que pode ser utilizada na caminhada em meio a natureza, trazendo ânimo e inspiração.\n",
    "output: Ao amanhecer, faça uma nova trilha com a mochila ideal.\n",
    "\n",
    "\n",
    "input: Gere um slogan para itens necessários para uma caminhada pelas montanhas, com um cenário lindo.\n",
    "       Inclua a palavra natureza\n",
    "output:\n",
    "\n",
    "\"\"\"\n",
    "\n",
    "responses = model.generate_content(\n",
    "    prompt,\n",
    "    generation_config={\n",
    "        \"temperature\": 1,\n",
    "        \"max_output_tokens\": 2048,\n",
    "        \"top_p\": 1.0,\n",
    "        \"top_k\": 40,\n",
    "    },\n",
    "    stream=True\n",
    "    )\n",
    "\n",
    "for response in responses:\n",
    "    print(response.text)"
   ]
  },
  {
   "cell_type": "code",
   "execution_count": null,
   "id": "913cd56f-08ff-4a00-a01b-eabf8ada30a2",
   "metadata": {},
   "outputs": [],
   "source": []
  }
 ],
 "metadata": {
  "environment": {
   "kernel": "conda-base-py",
   "name": "workbench-notebooks.m126",
   "type": "gcloud",
   "uri": "us-docker.pkg.dev/deeplearning-platform-release/gcr.io/workbench-notebooks:m126"
  },
  "kernelspec": {
   "display_name": "Python 3 (ipykernel) (Local)",
   "language": "python",
   "name": "conda-base-py"
  },
  "language_info": {
   "codemirror_mode": {
    "name": "ipython",
    "version": 3
   },
   "file_extension": ".py",
   "mimetype": "text/x-python",
   "name": "python",
   "nbconvert_exporter": "python",
   "pygments_lexer": "ipython3",
   "version": "3.10.15"
  }
 },
 "nbformat": 4,
 "nbformat_minor": 5
}
